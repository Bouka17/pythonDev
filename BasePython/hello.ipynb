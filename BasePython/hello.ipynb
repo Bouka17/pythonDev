{
 "cells": [
  {
   "cell_type": "code",
   "execution_count": 3,
   "metadata": {},
   "outputs": [
    {
     "name": "stdout",
     "output_type": "stream",
     "text": [
      "hello world\n"
     ]
    }
   ],
   "source": [
    "print(\"hello world\") # affichage de texte"
   ]
  },
  {
   "cell_type": "code",
   "execution_count": 6,
   "metadata": {},
   "outputs": [
    {
     "name": "stdout",
     "output_type": "stream",
     "text": [
      "je m'appelle Maramory\n"
     ]
    }
   ],
   "source": [
    "pres = 'je m\\'appelle Maramory'\n",
    "print(pres) "
   ]
  },
  {
   "cell_type": "code",
   "execution_count": 9,
   "metadata": {},
   "outputs": [
    {
     "name": "stdout",
     "output_type": "stream",
     "text": [
      "(0, 'a')\n",
      "(1, 'd')\n",
      "(2, 'p')\n",
      "(3, 'n')\n"
     ]
    }
   ],
   "source": [
    "liste = [\"a\", \"d\", \"p\", \"n\"]\n",
    "\n",
    "for lettre in enumerate(liste):\n",
    "    print(lettre)"
   ]
  },
  {
   "cell_type": "code",
   "execution_count": 10,
   "metadata": {},
   "outputs": [
    {
     "name": "stdout",
     "output_type": "stream",
     "text": [
      "a\n",
      "d\n",
      "p\n",
      "n\n"
     ]
    }
   ],
   "source": [
    "for lettre in (liste):\n",
    "    print(lettre)"
   ]
  },
  {
   "cell_type": "code",
   "execution_count": 12,
   "metadata": {},
   "outputs": [
    {
     "name": "stdout",
     "output_type": "stream",
     "text": [
      "(1, 'Maramory', 14, 'Monzon')\n"
     ]
    }
   ],
   "source": [
    "mon_tuple = 1, \"Maramory\", 14, \"Monzon\"\n",
    "print(mon_tuple)"
   ]
  },
  {
   "cell_type": "code",
   "execution_count": 16,
   "metadata": {},
   "outputs": [
    {
     "name": "stdout",
     "output_type": "stream",
     "text": [
      "nom\n",
      "Prenom\n",
      "Pays\n"
     ]
    }
   ],
   "source": [
    "fiche = {\"nom\" : \"Niare\", \"Prenom\" : \"Monzon\", \"Pays\" : \"France\"}\n",
    "for cle in fiche.keys():\n",
    "    print(cle)"
   ]
  },
  {
   "cell_type": "code",
   "execution_count": 17,
   "metadata": {},
   "outputs": [
    {
     "name": "stdout",
     "output_type": "stream",
     "text": [
      "Niare\n",
      "Monzon\n",
      "France\n"
     ]
    }
   ],
   "source": [
    "for valeur in fiche.values():\n",
    "    print(valeur)"
   ]
  },
  {
   "cell_type": "code",
   "execution_count": 20,
   "metadata": {},
   "outputs": [
    {
     "name": "stdout",
     "output_type": "stream",
     "text": [
      "nom Niare\n",
      "Prenom Monzon\n",
      "Pays France\n"
     ]
    }
   ],
   "source": [
    "for cle, valeur in fiche.items():\n",
    "    print(cle, valeur)"
   ]
  }
 ],
 "metadata": {
  "kernelspec": {
   "display_name": "Python 3 (ipykernel)",
   "language": "python",
   "name": "python3"
  },
  "language_info": {
   "codemirror_mode": {
    "name": "ipython",
    "version": 3
   },
   "file_extension": ".py",
   "mimetype": "text/x-python",
   "name": "python",
   "nbconvert_exporter": "python",
   "pygments_lexer": "ipython3",
   "version": "3.10.13"
  }
 },
 "nbformat": 4,
 "nbformat_minor": 2
}
