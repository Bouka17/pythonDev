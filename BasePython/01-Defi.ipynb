{
 "cells": [
  {
   "cell_type": "markdown",
   "metadata": {},
   "source": [
    "1. Défi\n",
    "- Créer une variable où vous stocker la valeur numérique de votre choix\n",
    "- Convertir cette variable en string\n",
    "- Afficher ensuite les éléments suivant  : le nombre choisi est :(affichage de la valeur contenu dans votre variable)"
   ]
  },
  {
   "cell_type": "code",
   "execution_count": 1,
   "metadata": {},
   "outputs": [],
   "source": [
    "# 1ere étape \n",
    "variable = 2"
   ]
  },
  {
   "cell_type": "code",
   "execution_count": 2,
   "metadata": {},
   "outputs": [
    {
     "data": {
      "text/plain": [
       "2"
      ]
     },
     "execution_count": 2,
     "metadata": {},
     "output_type": "execute_result"
    }
   ],
   "source": [
    "variable"
   ]
  },
  {
   "cell_type": "code",
   "execution_count": 3,
   "metadata": {},
   "outputs": [
    {
     "data": {
      "text/plain": [
       "'2'"
      ]
     },
     "execution_count": 3,
     "metadata": {},
     "output_type": "execute_result"
    }
   ],
   "source": [
    "# 2eme étape \n",
    "mystring = str(variable)\n",
    "mystring"
   ]
  },
  {
   "cell_type": "code",
   "execution_count": 5,
   "metadata": {},
   "outputs": [
    {
     "name": "stdout",
     "output_type": "stream",
     "text": [
      "Le nombre choisi est : 2\n"
     ]
    }
   ],
   "source": [
    "# 3eme étape\n",
    "print(\"Le nombre choisi est : \" + mystring)"
   ]
  },
  {
   "cell_type": "markdown",
   "metadata": {},
   "source": [
    "2. Fonctions \n",
    "L'idée c'est de construire une fonction, permettant de calculer de manière automatique le salaire d'une employé en tenant compte des heures supplémentaires. \n",
    "Pour cela on part de ce postulat:\n",
    "- on considère les heures suppplémentaires, les heures au dessus de 40h.\n",
    "- les heures supplémentaires sont numérées 1.5 fois le salaire horaire de base"
   ]
  },
  {
   "cell_type": "code",
   "execution_count": 1,
   "metadata": {},
   "outputs": [],
   "source": [
    "def Salaire(heures_travaillees, tarif_horaire):\n",
    "    if heures_travaillees > 40:\n",
    "        return tarif_horaire * 40 + (heures_travaillees-40) * 1.5 * tarif_horaire\n",
    "    else:\n",
    "        return heures_travaillees * tarif_horaire"
   ]
  },
  {
   "cell_type": "code",
   "execution_count": 2,
   "metadata": {},
   "outputs": [],
   "source": [
    "heures_travaillees = 50\n",
    "tarif_horaire = 100"
   ]
  },
  {
   "cell_type": "code",
   "execution_count": 4,
   "metadata": {},
   "outputs": [
    {
     "data": {
      "text/plain": [
       "5500.0"
      ]
     },
     "execution_count": 4,
     "metadata": {},
     "output_type": "execute_result"
    }
   ],
   "source": [
    "paie = Salaire(heures_travaillees, tarif_horaire)\n",
    "paie"
   ]
  },
  {
   "cell_type": "code",
   "execution_count": 5,
   "metadata": {},
   "outputs": [
    {
     "name": "stdout",
     "output_type": "stream",
     "text": [
      "Total à payer :  5500.00 euros\n"
     ]
    }
   ],
   "source": [
    "print(f\"Total à payer : {paie : .2f}\", \"euros\")"
   ]
  },
  {
   "cell_type": "markdown",
   "metadata": {},
   "source": [
    "DEFI : COMPTE BANCAIRE\n",
    "Crééer une classe python nommée CompteBancaire qui représente un compte bancaire, ayant pour attributs :\n",
    "- numeroCompte (type numérique)\n",
    "- nom (nom du propriétaire du compte du type chaine  de caractère)\n",
    "- solde (type numérique)\n",
    "\n",
    "2. Créer un constructeur ayant comme paramètres : numeroCompte, nom, solde.\n",
    "3. Créer une méthode versement() qui gère les versements\n",
    "4. Créer une méthode Retrait() qui gère les retraits quand cela est possible\n",
    "5.Créer une méthode Agios() permettant d'appliquer les agios à un pourcentage de 5% du solde.\n",
    "6.Donner le code complet de la classe CompteBancaire"
   ]
  },
  {
   "cell_type": "code",
   "execution_count": 2,
   "metadata": {},
   "outputs": [],
   "source": [
    "class CompteBancaire :\n",
    "    def __init__(self, numeroCompte, nomPrenom, solde):\n",
    "        self.numeroCompte = numeroCompte\n",
    "        self.nomPrenom = nomPrenom\n",
    "        self.solde = solde\n",
    "    \n",
    "    def Versement(self, argent):\n",
    "        self.solde = self.solde + argent\n",
    "\n",
    "    def Retrait(self, argent):\n",
    "        if(self.solde < argent):\n",
    "            print(\"Le solde est insuffisant\")\n",
    "        else:\n",
    "            self.solde = self.solde - argent\n",
    "\n",
    "    def agio(self):\n",
    "        self.solde = self.solde * 95/100\n",
    "\n",
    "    def afficher(self):\n",
    "        print(\"Compte nuéro :\", self.numeroCompte)\n",
    "        print(\"Nom et Prénom :\", self.nomPrenom)\n",
    "        print(\"Solde :\", self.solde, \"€\")"
   ]
  },
  {
   "cell_type": "code",
   "execution_count": 3,
   "metadata": {},
   "outputs": [],
   "source": [
    "monCompte = CompteBancaire(112335, \"Monzon Niare\", 100000)"
   ]
  },
  {
   "cell_type": "code",
   "execution_count": 4,
   "metadata": {},
   "outputs": [],
   "source": [
    "monCompte.Versement(1500)"
   ]
  },
  {
   "cell_type": "code",
   "execution_count": 5,
   "metadata": {},
   "outputs": [
    {
     "name": "stdout",
     "output_type": "stream",
     "text": [
      "Le solde est insuffisant\n"
     ]
    }
   ],
   "source": [
    "monCompte.Retrait(20000000000)"
   ]
  },
  {
   "cell_type": "code",
   "execution_count": 6,
   "metadata": {},
   "outputs": [
    {
     "name": "stdout",
     "output_type": "stream",
     "text": [
      "Compte nuéro : 112335\n",
      "Nom et Prénom : Monzon Niare\n",
      "Solde : 101500 €\n"
     ]
    }
   ],
   "source": [
    "monCompte.afficher()"
   ]
  }
 ],
 "metadata": {
  "kernelspec": {
   "display_name": "Python 3 (ipykernel)",
   "language": "python",
   "name": "python3"
  },
  "language_info": {
   "codemirror_mode": {
    "name": "ipython",
    "version": 3
   },
   "file_extension": ".py",
   "mimetype": "text/x-python",
   "name": "python",
   "nbconvert_exporter": "python",
   "pygments_lexer": "ipython3",
   "version": "3.10.13"
  }
 },
 "nbformat": 4,
 "nbformat_minor": 2
}
